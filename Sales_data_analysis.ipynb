{
  "nbformat": 4,
  "nbformat_minor": 0,
  "metadata": {
    "kernelspec": {
      "display_name": "Python 3",
      "language": "python",
      "name": "python3"
    },
    "language_info": {
      "codemirror_mode": {
        "name": "ipython",
        "version": 3
      },
      "file_extension": ".py",
      "mimetype": "text/x-python",
      "name": "python",
      "nbconvert_exporter": "python",
      "pygments_lexer": "ipython3",
      "version": "3.6.5"
    },
    "colab": {
      "name": "Sales data analysis.ipynb",
      "provenance": [],
      "include_colab_link": true
    }
  },
  "cells": [
    {
      "cell_type": "markdown",
      "metadata": {
        "id": "view-in-github",
        "colab_type": "text"
      },
      "source": [
        "<a href=\"https://colab.research.google.com/github/Nahid-Ahsan/USA-sale-data-analysis-and-visualization-using-pandas/blob/master/Sales_data_analysis.ipynb\" target=\"_parent\"><img src=\"https://colab.research.google.com/assets/colab-badge.svg\" alt=\"Open In Colab\"/></a>"
      ]
    },
    {
      "cell_type": "markdown",
      "metadata": {
        "id": "y1hsKeu3MJB2"
      },
      "source": [
        "# Sales Data Analysis"
      ]
    },
    {
      "cell_type": "code",
      "metadata": {
        "id": "BVYy2Oz-MJCF"
      },
      "source": [
        "import pandas as pd\n",
        "import os\n",
        "import matplotlib.pyplot as plt"
      ],
      "execution_count": null,
      "outputs": []
    },
    {
      "cell_type": "markdown",
      "metadata": {
        "id": "cwbNZS9AMJCG"
      },
      "source": [
        "## Marge the whole dataset into a single csv file."
      ]
    },
    {
      "cell_type": "code",
      "metadata": {
        "id": "zGeoAIuGMJCK"
      },
      "source": [
        "files = [file for file in os.listdir('./Sales_Data')]\n",
        "\n",
        "yearly_sales = pd.DataFrame()\n",
        "\n",
        "for file in files:\n",
        "    df = pd.read_csv(\"./Sales_Data/\"+ file)\n",
        "    yearly_sales = pd.concat([yearly_sales, df])\n",
        "yearly_sales.to_csv(\"Yearly_Sales_Data.csv\", index=False)"
      ],
      "execution_count": null,
      "outputs": []
    },
    {
      "cell_type": "markdown",
      "metadata": {
        "id": "Eu5tPSWSMJCK"
      },
      "source": [
        "## Read Full Dataset "
      ]
    },
    {
      "cell_type": "code",
      "metadata": {
        "id": "7auoRUWFMJCL",
        "outputId": "f890445f-ad49-4243-fca7-168b2eae5b69"
      },
      "source": [
        "total_sales = pd.read_csv('Yearly_Sales_Data.csv')\n",
        "total_sales.head()"
      ],
      "execution_count": null,
      "outputs": [
        {
          "output_type": "execute_result",
          "data": {
            "text/html": [
              "<div>\n",
              "<style scoped>\n",
              "    .dataframe tbody tr th:only-of-type {\n",
              "        vertical-align: middle;\n",
              "    }\n",
              "\n",
              "    .dataframe tbody tr th {\n",
              "        vertical-align: top;\n",
              "    }\n",
              "\n",
              "    .dataframe thead th {\n",
              "        text-align: right;\n",
              "    }\n",
              "</style>\n",
              "<table border=\"1\" class=\"dataframe\">\n",
              "  <thead>\n",
              "    <tr style=\"text-align: right;\">\n",
              "      <th></th>\n",
              "      <th>Order ID</th>\n",
              "      <th>Product</th>\n",
              "      <th>Quantity Ordered</th>\n",
              "      <th>Price Each</th>\n",
              "      <th>Order Date</th>\n",
              "      <th>Purchase Address</th>\n",
              "    </tr>\n",
              "  </thead>\n",
              "  <tbody>\n",
              "    <tr>\n",
              "      <th>0</th>\n",
              "      <td>176558</td>\n",
              "      <td>USB-C Charging Cable</td>\n",
              "      <td>2</td>\n",
              "      <td>11.95</td>\n",
              "      <td>04/19/19 08:46</td>\n",
              "      <td>917 1st St, Dallas, TX 75001</td>\n",
              "    </tr>\n",
              "    <tr>\n",
              "      <th>1</th>\n",
              "      <td>NaN</td>\n",
              "      <td>NaN</td>\n",
              "      <td>NaN</td>\n",
              "      <td>NaN</td>\n",
              "      <td>NaN</td>\n",
              "      <td>NaN</td>\n",
              "    </tr>\n",
              "    <tr>\n",
              "      <th>2</th>\n",
              "      <td>176559</td>\n",
              "      <td>Bose SoundSport Headphones</td>\n",
              "      <td>1</td>\n",
              "      <td>99.99</td>\n",
              "      <td>04/07/19 22:30</td>\n",
              "      <td>682 Chestnut St, Boston, MA 02215</td>\n",
              "    </tr>\n",
              "    <tr>\n",
              "      <th>3</th>\n",
              "      <td>176560</td>\n",
              "      <td>Google Phone</td>\n",
              "      <td>1</td>\n",
              "      <td>600</td>\n",
              "      <td>04/12/19 14:38</td>\n",
              "      <td>669 Spruce St, Los Angeles, CA 90001</td>\n",
              "    </tr>\n",
              "    <tr>\n",
              "      <th>4</th>\n",
              "      <td>176560</td>\n",
              "      <td>Wired Headphones</td>\n",
              "      <td>1</td>\n",
              "      <td>11.99</td>\n",
              "      <td>04/12/19 14:38</td>\n",
              "      <td>669 Spruce St, Los Angeles, CA 90001</td>\n",
              "    </tr>\n",
              "  </tbody>\n",
              "</table>\n",
              "</div>"
            ],
            "text/plain": [
              "  Order ID                     Product Quantity Ordered Price Each  \\\n",
              "0   176558        USB-C Charging Cable                2      11.95   \n",
              "1      NaN                         NaN              NaN        NaN   \n",
              "2   176559  Bose SoundSport Headphones                1      99.99   \n",
              "3   176560                Google Phone                1        600   \n",
              "4   176560            Wired Headphones                1      11.99   \n",
              "\n",
              "       Order Date                      Purchase Address  \n",
              "0  04/19/19 08:46          917 1st St, Dallas, TX 75001  \n",
              "1             NaN                                   NaN  \n",
              "2  04/07/19 22:30     682 Chestnut St, Boston, MA 02215  \n",
              "3  04/12/19 14:38  669 Spruce St, Los Angeles, CA 90001  \n",
              "4  04/12/19 14:38  669 Spruce St, Los Angeles, CA 90001  "
            ]
          },
          "metadata": {
            "tags": []
          },
          "execution_count": 2
        }
      ]
    },
    {
      "cell_type": "markdown",
      "metadata": {
        "id": "kmsmW3UbMJCN"
      },
      "source": [
        "## Clean up the data"
      ]
    },
    {
      "cell_type": "code",
      "metadata": {
        "id": "BUY1YbJhMJCN",
        "outputId": "fbf6d9e7-60ab-4522-d915-631dc7fc7e67"
      },
      "source": [
        "nan_df = total_sales[total_sales.isna().any(axis =1)]\n",
        "nan_df.head()\n",
        "total_sales = total_sales.dropna(how='all') #Drop the all null value from the dataset\n",
        "total_sales.head()"
      ],
      "execution_count": null,
      "outputs": [
        {
          "output_type": "execute_result",
          "data": {
            "text/html": [
              "<div>\n",
              "<style scoped>\n",
              "    .dataframe tbody tr th:only-of-type {\n",
              "        vertical-align: middle;\n",
              "    }\n",
              "\n",
              "    .dataframe tbody tr th {\n",
              "        vertical-align: top;\n",
              "    }\n",
              "\n",
              "    .dataframe thead th {\n",
              "        text-align: right;\n",
              "    }\n",
              "</style>\n",
              "<table border=\"1\" class=\"dataframe\">\n",
              "  <thead>\n",
              "    <tr style=\"text-align: right;\">\n",
              "      <th></th>\n",
              "      <th>Order ID</th>\n",
              "      <th>Product</th>\n",
              "      <th>Quantity Ordered</th>\n",
              "      <th>Price Each</th>\n",
              "      <th>Order Date</th>\n",
              "      <th>Purchase Address</th>\n",
              "    </tr>\n",
              "  </thead>\n",
              "  <tbody>\n",
              "    <tr>\n",
              "      <th>0</th>\n",
              "      <td>176558</td>\n",
              "      <td>USB-C Charging Cable</td>\n",
              "      <td>2</td>\n",
              "      <td>11.95</td>\n",
              "      <td>04/19/19 08:46</td>\n",
              "      <td>917 1st St, Dallas, TX 75001</td>\n",
              "    </tr>\n",
              "    <tr>\n",
              "      <th>2</th>\n",
              "      <td>176559</td>\n",
              "      <td>Bose SoundSport Headphones</td>\n",
              "      <td>1</td>\n",
              "      <td>99.99</td>\n",
              "      <td>04/07/19 22:30</td>\n",
              "      <td>682 Chestnut St, Boston, MA 02215</td>\n",
              "    </tr>\n",
              "    <tr>\n",
              "      <th>3</th>\n",
              "      <td>176560</td>\n",
              "      <td>Google Phone</td>\n",
              "      <td>1</td>\n",
              "      <td>600</td>\n",
              "      <td>04/12/19 14:38</td>\n",
              "      <td>669 Spruce St, Los Angeles, CA 90001</td>\n",
              "    </tr>\n",
              "    <tr>\n",
              "      <th>4</th>\n",
              "      <td>176560</td>\n",
              "      <td>Wired Headphones</td>\n",
              "      <td>1</td>\n",
              "      <td>11.99</td>\n",
              "      <td>04/12/19 14:38</td>\n",
              "      <td>669 Spruce St, Los Angeles, CA 90001</td>\n",
              "    </tr>\n",
              "    <tr>\n",
              "      <th>5</th>\n",
              "      <td>176561</td>\n",
              "      <td>Wired Headphones</td>\n",
              "      <td>1</td>\n",
              "      <td>11.99</td>\n",
              "      <td>04/30/19 09:27</td>\n",
              "      <td>333 8th St, Los Angeles, CA 90001</td>\n",
              "    </tr>\n",
              "  </tbody>\n",
              "</table>\n",
              "</div>"
            ],
            "text/plain": [
              "  Order ID                     Product Quantity Ordered Price Each  \\\n",
              "0   176558        USB-C Charging Cable                2      11.95   \n",
              "2   176559  Bose SoundSport Headphones                1      99.99   \n",
              "3   176560                Google Phone                1        600   \n",
              "4   176560            Wired Headphones                1      11.99   \n",
              "5   176561            Wired Headphones                1      11.99   \n",
              "\n",
              "       Order Date                      Purchase Address  \n",
              "0  04/19/19 08:46          917 1st St, Dallas, TX 75001  \n",
              "2  04/07/19 22:30     682 Chestnut St, Boston, MA 02215  \n",
              "3  04/12/19 14:38  669 Spruce St, Los Angeles, CA 90001  \n",
              "4  04/12/19 14:38  669 Spruce St, Los Angeles, CA 90001  \n",
              "5  04/30/19 09:27     333 8th St, Los Angeles, CA 90001  "
            ]
          },
          "metadata": {
            "tags": []
          },
          "execution_count": 3
        }
      ]
    },
    {
      "cell_type": "code",
      "metadata": {
        "id": "qv4GfdJ5MJCO",
        "outputId": "7db885ed-0a35-4bd7-e560-a7f7807b8314"
      },
      "source": [
        "total_sales = total_sales[total_sales['Order Date'].str[0:2]!= 'Or'] #Delete the \"Or\" from the Order Date Column\n",
        "total_sales.head()"
      ],
      "execution_count": null,
      "outputs": [
        {
          "output_type": "execute_result",
          "data": {
            "text/html": [
              "<div>\n",
              "<style scoped>\n",
              "    .dataframe tbody tr th:only-of-type {\n",
              "        vertical-align: middle;\n",
              "    }\n",
              "\n",
              "    .dataframe tbody tr th {\n",
              "        vertical-align: top;\n",
              "    }\n",
              "\n",
              "    .dataframe thead th {\n",
              "        text-align: right;\n",
              "    }\n",
              "</style>\n",
              "<table border=\"1\" class=\"dataframe\">\n",
              "  <thead>\n",
              "    <tr style=\"text-align: right;\">\n",
              "      <th></th>\n",
              "      <th>Order ID</th>\n",
              "      <th>Product</th>\n",
              "      <th>Quantity Ordered</th>\n",
              "      <th>Price Each</th>\n",
              "      <th>Order Date</th>\n",
              "      <th>Purchase Address</th>\n",
              "    </tr>\n",
              "  </thead>\n",
              "  <tbody>\n",
              "    <tr>\n",
              "      <th>0</th>\n",
              "      <td>176558</td>\n",
              "      <td>USB-C Charging Cable</td>\n",
              "      <td>2</td>\n",
              "      <td>11.95</td>\n",
              "      <td>04/19/19 08:46</td>\n",
              "      <td>917 1st St, Dallas, TX 75001</td>\n",
              "    </tr>\n",
              "    <tr>\n",
              "      <th>2</th>\n",
              "      <td>176559</td>\n",
              "      <td>Bose SoundSport Headphones</td>\n",
              "      <td>1</td>\n",
              "      <td>99.99</td>\n",
              "      <td>04/07/19 22:30</td>\n",
              "      <td>682 Chestnut St, Boston, MA 02215</td>\n",
              "    </tr>\n",
              "    <tr>\n",
              "      <th>3</th>\n",
              "      <td>176560</td>\n",
              "      <td>Google Phone</td>\n",
              "      <td>1</td>\n",
              "      <td>600</td>\n",
              "      <td>04/12/19 14:38</td>\n",
              "      <td>669 Spruce St, Los Angeles, CA 90001</td>\n",
              "    </tr>\n",
              "    <tr>\n",
              "      <th>4</th>\n",
              "      <td>176560</td>\n",
              "      <td>Wired Headphones</td>\n",
              "      <td>1</td>\n",
              "      <td>11.99</td>\n",
              "      <td>04/12/19 14:38</td>\n",
              "      <td>669 Spruce St, Los Angeles, CA 90001</td>\n",
              "    </tr>\n",
              "    <tr>\n",
              "      <th>5</th>\n",
              "      <td>176561</td>\n",
              "      <td>Wired Headphones</td>\n",
              "      <td>1</td>\n",
              "      <td>11.99</td>\n",
              "      <td>04/30/19 09:27</td>\n",
              "      <td>333 8th St, Los Angeles, CA 90001</td>\n",
              "    </tr>\n",
              "  </tbody>\n",
              "</table>\n",
              "</div>"
            ],
            "text/plain": [
              "  Order ID                     Product Quantity Ordered Price Each  \\\n",
              "0   176558        USB-C Charging Cable                2      11.95   \n",
              "2   176559  Bose SoundSport Headphones                1      99.99   \n",
              "3   176560                Google Phone                1        600   \n",
              "4   176560            Wired Headphones                1      11.99   \n",
              "5   176561            Wired Headphones                1      11.99   \n",
              "\n",
              "       Order Date                      Purchase Address  \n",
              "0  04/19/19 08:46          917 1st St, Dallas, TX 75001  \n",
              "2  04/07/19 22:30     682 Chestnut St, Boston, MA 02215  \n",
              "3  04/12/19 14:38  669 Spruce St, Los Angeles, CA 90001  \n",
              "4  04/12/19 14:38  669 Spruce St, Los Angeles, CA 90001  \n",
              "5  04/30/19 09:27     333 8th St, Los Angeles, CA 90001  "
            ]
          },
          "metadata": {
            "tags": []
          },
          "execution_count": 4
        }
      ]
    },
    {
      "cell_type": "code",
      "metadata": {
        "id": "96GM_nC3MJCQ"
      },
      "source": [
        "total_sales['Quantity Ordered'] = total_sales['Quantity Ordered'].astype('int32')\n",
        "total_sales['Price Each'] = total_sales['Price Each'].astype('float32')"
      ],
      "execution_count": null,
      "outputs": []
    },
    {
      "cell_type": "code",
      "metadata": {
        "id": "FEVHQwn4MJCR",
        "outputId": "478e88e9-60e1-4f58-93fb-caf33039c09f"
      },
      "source": [
        "total_sales['Month'] = total_sales['Order Date'].str[0:2]\n",
        "total_sales['Month'] = total_sales['Month'].astype('int32')\n",
        "total_sales.head()"
      ],
      "execution_count": null,
      "outputs": [
        {
          "output_type": "execute_result",
          "data": {
            "text/html": [
              "<div>\n",
              "<style scoped>\n",
              "    .dataframe tbody tr th:only-of-type {\n",
              "        vertical-align: middle;\n",
              "    }\n",
              "\n",
              "    .dataframe tbody tr th {\n",
              "        vertical-align: top;\n",
              "    }\n",
              "\n",
              "    .dataframe thead th {\n",
              "        text-align: right;\n",
              "    }\n",
              "</style>\n",
              "<table border=\"1\" class=\"dataframe\">\n",
              "  <thead>\n",
              "    <tr style=\"text-align: right;\">\n",
              "      <th></th>\n",
              "      <th>Order ID</th>\n",
              "      <th>Product</th>\n",
              "      <th>Quantity Ordered</th>\n",
              "      <th>Price Each</th>\n",
              "      <th>Order Date</th>\n",
              "      <th>Purchase Address</th>\n",
              "      <th>Month</th>\n",
              "    </tr>\n",
              "  </thead>\n",
              "  <tbody>\n",
              "    <tr>\n",
              "      <th>0</th>\n",
              "      <td>176558</td>\n",
              "      <td>USB-C Charging Cable</td>\n",
              "      <td>2</td>\n",
              "      <td>11.950000</td>\n",
              "      <td>04/19/19 08:46</td>\n",
              "      <td>917 1st St, Dallas, TX 75001</td>\n",
              "      <td>4</td>\n",
              "    </tr>\n",
              "    <tr>\n",
              "      <th>2</th>\n",
              "      <td>176559</td>\n",
              "      <td>Bose SoundSport Headphones</td>\n",
              "      <td>1</td>\n",
              "      <td>99.989998</td>\n",
              "      <td>04/07/19 22:30</td>\n",
              "      <td>682 Chestnut St, Boston, MA 02215</td>\n",
              "      <td>4</td>\n",
              "    </tr>\n",
              "    <tr>\n",
              "      <th>3</th>\n",
              "      <td>176560</td>\n",
              "      <td>Google Phone</td>\n",
              "      <td>1</td>\n",
              "      <td>600.000000</td>\n",
              "      <td>04/12/19 14:38</td>\n",
              "      <td>669 Spruce St, Los Angeles, CA 90001</td>\n",
              "      <td>4</td>\n",
              "    </tr>\n",
              "    <tr>\n",
              "      <th>4</th>\n",
              "      <td>176560</td>\n",
              "      <td>Wired Headphones</td>\n",
              "      <td>1</td>\n",
              "      <td>11.990000</td>\n",
              "      <td>04/12/19 14:38</td>\n",
              "      <td>669 Spruce St, Los Angeles, CA 90001</td>\n",
              "      <td>4</td>\n",
              "    </tr>\n",
              "    <tr>\n",
              "      <th>5</th>\n",
              "      <td>176561</td>\n",
              "      <td>Wired Headphones</td>\n",
              "      <td>1</td>\n",
              "      <td>11.990000</td>\n",
              "      <td>04/30/19 09:27</td>\n",
              "      <td>333 8th St, Los Angeles, CA 90001</td>\n",
              "      <td>4</td>\n",
              "    </tr>\n",
              "  </tbody>\n",
              "</table>\n",
              "</div>"
            ],
            "text/plain": [
              "  Order ID                     Product  Quantity Ordered  Price Each  \\\n",
              "0   176558        USB-C Charging Cable                 2   11.950000   \n",
              "2   176559  Bose SoundSport Headphones                 1   99.989998   \n",
              "3   176560                Google Phone                 1  600.000000   \n",
              "4   176560            Wired Headphones                 1   11.990000   \n",
              "5   176561            Wired Headphones                 1   11.990000   \n",
              "\n",
              "       Order Date                      Purchase Address  Month  \n",
              "0  04/19/19 08:46          917 1st St, Dallas, TX 75001      4  \n",
              "2  04/07/19 22:30     682 Chestnut St, Boston, MA 02215      4  \n",
              "3  04/12/19 14:38  669 Spruce St, Los Angeles, CA 90001      4  \n",
              "4  04/12/19 14:38  669 Spruce St, Los Angeles, CA 90001      4  \n",
              "5  04/30/19 09:27     333 8th St, Los Angeles, CA 90001      4  "
            ]
          },
          "metadata": {
            "tags": []
          },
          "execution_count": 6
        }
      ]
    },
    {
      "cell_type": "code",
      "metadata": {
        "id": "0b32XljLMJCT",
        "outputId": "69acccd6-3b3a-4c59-8c8c-76b732e57610"
      },
      "source": [
        "total_sales['Sales'] = total_sales['Quantity Ordered'] * total_sales['Price Each']\n",
        "total_sales.head()"
      ],
      "execution_count": null,
      "outputs": [
        {
          "output_type": "execute_result",
          "data": {
            "text/html": [
              "<div>\n",
              "<style scoped>\n",
              "    .dataframe tbody tr th:only-of-type {\n",
              "        vertical-align: middle;\n",
              "    }\n",
              "\n",
              "    .dataframe tbody tr th {\n",
              "        vertical-align: top;\n",
              "    }\n",
              "\n",
              "    .dataframe thead th {\n",
              "        text-align: right;\n",
              "    }\n",
              "</style>\n",
              "<table border=\"1\" class=\"dataframe\">\n",
              "  <thead>\n",
              "    <tr style=\"text-align: right;\">\n",
              "      <th></th>\n",
              "      <th>Order ID</th>\n",
              "      <th>Product</th>\n",
              "      <th>Quantity Ordered</th>\n",
              "      <th>Price Each</th>\n",
              "      <th>Order Date</th>\n",
              "      <th>Purchase Address</th>\n",
              "      <th>Month</th>\n",
              "      <th>Sales</th>\n",
              "    </tr>\n",
              "  </thead>\n",
              "  <tbody>\n",
              "    <tr>\n",
              "      <th>0</th>\n",
              "      <td>176558</td>\n",
              "      <td>USB-C Charging Cable</td>\n",
              "      <td>2</td>\n",
              "      <td>11.950000</td>\n",
              "      <td>04/19/19 08:46</td>\n",
              "      <td>917 1st St, Dallas, TX 75001</td>\n",
              "      <td>4</td>\n",
              "      <td>23.900000</td>\n",
              "    </tr>\n",
              "    <tr>\n",
              "      <th>2</th>\n",
              "      <td>176559</td>\n",
              "      <td>Bose SoundSport Headphones</td>\n",
              "      <td>1</td>\n",
              "      <td>99.989998</td>\n",
              "      <td>04/07/19 22:30</td>\n",
              "      <td>682 Chestnut St, Boston, MA 02215</td>\n",
              "      <td>4</td>\n",
              "      <td>99.989998</td>\n",
              "    </tr>\n",
              "    <tr>\n",
              "      <th>3</th>\n",
              "      <td>176560</td>\n",
              "      <td>Google Phone</td>\n",
              "      <td>1</td>\n",
              "      <td>600.000000</td>\n",
              "      <td>04/12/19 14:38</td>\n",
              "      <td>669 Spruce St, Los Angeles, CA 90001</td>\n",
              "      <td>4</td>\n",
              "      <td>600.000000</td>\n",
              "    </tr>\n",
              "    <tr>\n",
              "      <th>4</th>\n",
              "      <td>176560</td>\n",
              "      <td>Wired Headphones</td>\n",
              "      <td>1</td>\n",
              "      <td>11.990000</td>\n",
              "      <td>04/12/19 14:38</td>\n",
              "      <td>669 Spruce St, Los Angeles, CA 90001</td>\n",
              "      <td>4</td>\n",
              "      <td>11.990000</td>\n",
              "    </tr>\n",
              "    <tr>\n",
              "      <th>5</th>\n",
              "      <td>176561</td>\n",
              "      <td>Wired Headphones</td>\n",
              "      <td>1</td>\n",
              "      <td>11.990000</td>\n",
              "      <td>04/30/19 09:27</td>\n",
              "      <td>333 8th St, Los Angeles, CA 90001</td>\n",
              "      <td>4</td>\n",
              "      <td>11.990000</td>\n",
              "    </tr>\n",
              "  </tbody>\n",
              "</table>\n",
              "</div>"
            ],
            "text/plain": [
              "  Order ID                     Product  Quantity Ordered  Price Each  \\\n",
              "0   176558        USB-C Charging Cable                 2   11.950000   \n",
              "2   176559  Bose SoundSport Headphones                 1   99.989998   \n",
              "3   176560                Google Phone                 1  600.000000   \n",
              "4   176560            Wired Headphones                 1   11.990000   \n",
              "5   176561            Wired Headphones                 1   11.990000   \n",
              "\n",
              "       Order Date                      Purchase Address  Month       Sales  \n",
              "0  04/19/19 08:46          917 1st St, Dallas, TX 75001      4   23.900000  \n",
              "2  04/07/19 22:30     682 Chestnut St, Boston, MA 02215      4   99.989998  \n",
              "3  04/12/19 14:38  669 Spruce St, Los Angeles, CA 90001      4  600.000000  \n",
              "4  04/12/19 14:38  669 Spruce St, Los Angeles, CA 90001      4   11.990000  \n",
              "5  04/30/19 09:27     333 8th St, Los Angeles, CA 90001      4   11.990000  "
            ]
          },
          "metadata": {
            "tags": []
          },
          "execution_count": 7
        }
      ]
    },
    {
      "cell_type": "code",
      "metadata": {
        "id": "kvmQGoNAMJCU",
        "outputId": "dfb8625e-1d63-4084-c5f0-e7ebbf637efc"
      },
      "source": [
        "total_sales['Time'] = total_sales['Order Date'].str[9:]\n",
        "total_sales.head()"
      ],
      "execution_count": null,
      "outputs": [
        {
          "output_type": "execute_result",
          "data": {
            "text/html": [
              "<div>\n",
              "<style scoped>\n",
              "    .dataframe tbody tr th:only-of-type {\n",
              "        vertical-align: middle;\n",
              "    }\n",
              "\n",
              "    .dataframe tbody tr th {\n",
              "        vertical-align: top;\n",
              "    }\n",
              "\n",
              "    .dataframe thead th {\n",
              "        text-align: right;\n",
              "    }\n",
              "</style>\n",
              "<table border=\"1\" class=\"dataframe\">\n",
              "  <thead>\n",
              "    <tr style=\"text-align: right;\">\n",
              "      <th></th>\n",
              "      <th>Order ID</th>\n",
              "      <th>Product</th>\n",
              "      <th>Quantity Ordered</th>\n",
              "      <th>Price Each</th>\n",
              "      <th>Order Date</th>\n",
              "      <th>Purchase Address</th>\n",
              "      <th>Month</th>\n",
              "      <th>Sales</th>\n",
              "      <th>Time</th>\n",
              "    </tr>\n",
              "  </thead>\n",
              "  <tbody>\n",
              "    <tr>\n",
              "      <th>0</th>\n",
              "      <td>176558</td>\n",
              "      <td>USB-C Charging Cable</td>\n",
              "      <td>2</td>\n",
              "      <td>11.950000</td>\n",
              "      <td>04/19/19 08:46</td>\n",
              "      <td>917 1st St, Dallas, TX 75001</td>\n",
              "      <td>4</td>\n",
              "      <td>23.900000</td>\n",
              "      <td>08:46</td>\n",
              "    </tr>\n",
              "    <tr>\n",
              "      <th>2</th>\n",
              "      <td>176559</td>\n",
              "      <td>Bose SoundSport Headphones</td>\n",
              "      <td>1</td>\n",
              "      <td>99.989998</td>\n",
              "      <td>04/07/19 22:30</td>\n",
              "      <td>682 Chestnut St, Boston, MA 02215</td>\n",
              "      <td>4</td>\n",
              "      <td>99.989998</td>\n",
              "      <td>22:30</td>\n",
              "    </tr>\n",
              "    <tr>\n",
              "      <th>3</th>\n",
              "      <td>176560</td>\n",
              "      <td>Google Phone</td>\n",
              "      <td>1</td>\n",
              "      <td>600.000000</td>\n",
              "      <td>04/12/19 14:38</td>\n",
              "      <td>669 Spruce St, Los Angeles, CA 90001</td>\n",
              "      <td>4</td>\n",
              "      <td>600.000000</td>\n",
              "      <td>14:38</td>\n",
              "    </tr>\n",
              "    <tr>\n",
              "      <th>4</th>\n",
              "      <td>176560</td>\n",
              "      <td>Wired Headphones</td>\n",
              "      <td>1</td>\n",
              "      <td>11.990000</td>\n",
              "      <td>04/12/19 14:38</td>\n",
              "      <td>669 Spruce St, Los Angeles, CA 90001</td>\n",
              "      <td>4</td>\n",
              "      <td>11.990000</td>\n",
              "      <td>14:38</td>\n",
              "    </tr>\n",
              "    <tr>\n",
              "      <th>5</th>\n",
              "      <td>176561</td>\n",
              "      <td>Wired Headphones</td>\n",
              "      <td>1</td>\n",
              "      <td>11.990000</td>\n",
              "      <td>04/30/19 09:27</td>\n",
              "      <td>333 8th St, Los Angeles, CA 90001</td>\n",
              "      <td>4</td>\n",
              "      <td>11.990000</td>\n",
              "      <td>09:27</td>\n",
              "    </tr>\n",
              "  </tbody>\n",
              "</table>\n",
              "</div>"
            ],
            "text/plain": [
              "  Order ID                     Product  Quantity Ordered  Price Each  \\\n",
              "0   176558        USB-C Charging Cable                 2   11.950000   \n",
              "2   176559  Bose SoundSport Headphones                 1   99.989998   \n",
              "3   176560                Google Phone                 1  600.000000   \n",
              "4   176560            Wired Headphones                 1   11.990000   \n",
              "5   176561            Wired Headphones                 1   11.990000   \n",
              "\n",
              "       Order Date                      Purchase Address  Month       Sales  \\\n",
              "0  04/19/19 08:46          917 1st St, Dallas, TX 75001      4   23.900000   \n",
              "2  04/07/19 22:30     682 Chestnut St, Boston, MA 02215      4   99.989998   \n",
              "3  04/12/19 14:38  669 Spruce St, Los Angeles, CA 90001      4  600.000000   \n",
              "4  04/12/19 14:38  669 Spruce St, Los Angeles, CA 90001      4   11.990000   \n",
              "5  04/30/19 09:27     333 8th St, Los Angeles, CA 90001      4   11.990000   \n",
              "\n",
              "    Time  \n",
              "0  08:46  \n",
              "2  22:30  \n",
              "3  14:38  \n",
              "4  14:38  \n",
              "5  09:27  "
            ]
          },
          "metadata": {
            "tags": []
          },
          "execution_count": 8
        }
      ]
    },
    {
      "cell_type": "code",
      "metadata": {
        "id": "zOAgXdDbMJCV",
        "outputId": "9061a432-3bd8-46ee-ee8e-50941fa7d0be"
      },
      "source": [
        "def get_city(address):\n",
        "    return address.split(',')[1]\n",
        "\n",
        "def get_state(address):\n",
        "    return address.split(',')[2].split(' ')[1]\n",
        "\n",
        "total_sales['City'] = total_sales['Purchase Address'].apply(lambda x: f\"{get_city(x)} ({get_state(x)})\")\n",
        "total_sales.head()"
      ],
      "execution_count": null,
      "outputs": [
        {
          "output_type": "execute_result",
          "data": {
            "text/html": [
              "<div>\n",
              "<style scoped>\n",
              "    .dataframe tbody tr th:only-of-type {\n",
              "        vertical-align: middle;\n",
              "    }\n",
              "\n",
              "    .dataframe tbody tr th {\n",
              "        vertical-align: top;\n",
              "    }\n",
              "\n",
              "    .dataframe thead th {\n",
              "        text-align: right;\n",
              "    }\n",
              "</style>\n",
              "<table border=\"1\" class=\"dataframe\">\n",
              "  <thead>\n",
              "    <tr style=\"text-align: right;\">\n",
              "      <th></th>\n",
              "      <th>Order ID</th>\n",
              "      <th>Product</th>\n",
              "      <th>Quantity Ordered</th>\n",
              "      <th>Price Each</th>\n",
              "      <th>Order Date</th>\n",
              "      <th>Purchase Address</th>\n",
              "      <th>Month</th>\n",
              "      <th>Sales</th>\n",
              "      <th>Time</th>\n",
              "      <th>City</th>\n",
              "    </tr>\n",
              "  </thead>\n",
              "  <tbody>\n",
              "    <tr>\n",
              "      <th>0</th>\n",
              "      <td>176558</td>\n",
              "      <td>USB-C Charging Cable</td>\n",
              "      <td>2</td>\n",
              "      <td>11.950000</td>\n",
              "      <td>04/19/19 08:46</td>\n",
              "      <td>917 1st St, Dallas, TX 75001</td>\n",
              "      <td>4</td>\n",
              "      <td>23.900000</td>\n",
              "      <td>08:46</td>\n",
              "      <td>Dallas (TX)</td>\n",
              "    </tr>\n",
              "    <tr>\n",
              "      <th>2</th>\n",
              "      <td>176559</td>\n",
              "      <td>Bose SoundSport Headphones</td>\n",
              "      <td>1</td>\n",
              "      <td>99.989998</td>\n",
              "      <td>04/07/19 22:30</td>\n",
              "      <td>682 Chestnut St, Boston, MA 02215</td>\n",
              "      <td>4</td>\n",
              "      <td>99.989998</td>\n",
              "      <td>22:30</td>\n",
              "      <td>Boston (MA)</td>\n",
              "    </tr>\n",
              "    <tr>\n",
              "      <th>3</th>\n",
              "      <td>176560</td>\n",
              "      <td>Google Phone</td>\n",
              "      <td>1</td>\n",
              "      <td>600.000000</td>\n",
              "      <td>04/12/19 14:38</td>\n",
              "      <td>669 Spruce St, Los Angeles, CA 90001</td>\n",
              "      <td>4</td>\n",
              "      <td>600.000000</td>\n",
              "      <td>14:38</td>\n",
              "      <td>Los Angeles (CA)</td>\n",
              "    </tr>\n",
              "    <tr>\n",
              "      <th>4</th>\n",
              "      <td>176560</td>\n",
              "      <td>Wired Headphones</td>\n",
              "      <td>1</td>\n",
              "      <td>11.990000</td>\n",
              "      <td>04/12/19 14:38</td>\n",
              "      <td>669 Spruce St, Los Angeles, CA 90001</td>\n",
              "      <td>4</td>\n",
              "      <td>11.990000</td>\n",
              "      <td>14:38</td>\n",
              "      <td>Los Angeles (CA)</td>\n",
              "    </tr>\n",
              "    <tr>\n",
              "      <th>5</th>\n",
              "      <td>176561</td>\n",
              "      <td>Wired Headphones</td>\n",
              "      <td>1</td>\n",
              "      <td>11.990000</td>\n",
              "      <td>04/30/19 09:27</td>\n",
              "      <td>333 8th St, Los Angeles, CA 90001</td>\n",
              "      <td>4</td>\n",
              "      <td>11.990000</td>\n",
              "      <td>09:27</td>\n",
              "      <td>Los Angeles (CA)</td>\n",
              "    </tr>\n",
              "  </tbody>\n",
              "</table>\n",
              "</div>"
            ],
            "text/plain": [
              "  Order ID                     Product  Quantity Ordered  Price Each  \\\n",
              "0   176558        USB-C Charging Cable                 2   11.950000   \n",
              "2   176559  Bose SoundSport Headphones                 1   99.989998   \n",
              "3   176560                Google Phone                 1  600.000000   \n",
              "4   176560            Wired Headphones                 1   11.990000   \n",
              "5   176561            Wired Headphones                 1   11.990000   \n",
              "\n",
              "       Order Date                      Purchase Address  Month       Sales  \\\n",
              "0  04/19/19 08:46          917 1st St, Dallas, TX 75001      4   23.900000   \n",
              "2  04/07/19 22:30     682 Chestnut St, Boston, MA 02215      4   99.989998   \n",
              "3  04/12/19 14:38  669 Spruce St, Los Angeles, CA 90001      4  600.000000   \n",
              "4  04/12/19 14:38  669 Spruce St, Los Angeles, CA 90001      4   11.990000   \n",
              "5  04/30/19 09:27     333 8th St, Los Angeles, CA 90001      4   11.990000   \n",
              "\n",
              "    Time               City  \n",
              "0  08:46        Dallas (TX)  \n",
              "2  22:30        Boston (MA)  \n",
              "3  14:38   Los Angeles (CA)  \n",
              "4  14:38   Los Angeles (CA)  \n",
              "5  09:27   Los Angeles (CA)  "
            ]
          },
          "metadata": {
            "tags": []
          },
          "execution_count": 9
        }
      ]
    },
    {
      "cell_type": "code",
      "metadata": {
        "id": "uKKJAitWMJCW"
      },
      "source": [
        "total_sales['Order Date'] = pd.to_datetime(total_sales['Order Date'])"
      ],
      "execution_count": null,
      "outputs": []
    },
    {
      "cell_type": "code",
      "metadata": {
        "id": "gyfUPfoqMJCX"
      },
      "source": [
        "total_sales['Hour'] = total_sales['Order Date'].dt.hour\n",
        "total_sales['Minute'] = total_sales['Order Date'].dt.minute"
      ],
      "execution_count": null,
      "outputs": []
    },
    {
      "cell_type": "code",
      "metadata": {
        "id": "XGxn3CM_MJCX",
        "outputId": "8a4dea15-79f5-4d35-9c31-0b2eb13ec57d"
      },
      "source": [
        "total_sales.head()"
      ],
      "execution_count": null,
      "outputs": [
        {
          "output_type": "execute_result",
          "data": {
            "text/html": [
              "<div>\n",
              "<style scoped>\n",
              "    .dataframe tbody tr th:only-of-type {\n",
              "        vertical-align: middle;\n",
              "    }\n",
              "\n",
              "    .dataframe tbody tr th {\n",
              "        vertical-align: top;\n",
              "    }\n",
              "\n",
              "    .dataframe thead th {\n",
              "        text-align: right;\n",
              "    }\n",
              "</style>\n",
              "<table border=\"1\" class=\"dataframe\">\n",
              "  <thead>\n",
              "    <tr style=\"text-align: right;\">\n",
              "      <th></th>\n",
              "      <th>Order ID</th>\n",
              "      <th>Product</th>\n",
              "      <th>Quantity Ordered</th>\n",
              "      <th>Price Each</th>\n",
              "      <th>Order Date</th>\n",
              "      <th>Purchase Address</th>\n",
              "      <th>Month</th>\n",
              "      <th>Sales</th>\n",
              "      <th>Time</th>\n",
              "      <th>City</th>\n",
              "      <th>Hour</th>\n",
              "      <th>Minute</th>\n",
              "    </tr>\n",
              "  </thead>\n",
              "  <tbody>\n",
              "    <tr>\n",
              "      <th>0</th>\n",
              "      <td>176558</td>\n",
              "      <td>USB-C Charging Cable</td>\n",
              "      <td>2</td>\n",
              "      <td>11.950000</td>\n",
              "      <td>2019-04-19 08:46:00</td>\n",
              "      <td>917 1st St, Dallas, TX 75001</td>\n",
              "      <td>4</td>\n",
              "      <td>23.900000</td>\n",
              "      <td>08:46</td>\n",
              "      <td>Dallas (TX)</td>\n",
              "      <td>8</td>\n",
              "      <td>46</td>\n",
              "    </tr>\n",
              "    <tr>\n",
              "      <th>2</th>\n",
              "      <td>176559</td>\n",
              "      <td>Bose SoundSport Headphones</td>\n",
              "      <td>1</td>\n",
              "      <td>99.989998</td>\n",
              "      <td>2019-04-07 22:30:00</td>\n",
              "      <td>682 Chestnut St, Boston, MA 02215</td>\n",
              "      <td>4</td>\n",
              "      <td>99.989998</td>\n",
              "      <td>22:30</td>\n",
              "      <td>Boston (MA)</td>\n",
              "      <td>22</td>\n",
              "      <td>30</td>\n",
              "    </tr>\n",
              "    <tr>\n",
              "      <th>3</th>\n",
              "      <td>176560</td>\n",
              "      <td>Google Phone</td>\n",
              "      <td>1</td>\n",
              "      <td>600.000000</td>\n",
              "      <td>2019-04-12 14:38:00</td>\n",
              "      <td>669 Spruce St, Los Angeles, CA 90001</td>\n",
              "      <td>4</td>\n",
              "      <td>600.000000</td>\n",
              "      <td>14:38</td>\n",
              "      <td>Los Angeles (CA)</td>\n",
              "      <td>14</td>\n",
              "      <td>38</td>\n",
              "    </tr>\n",
              "    <tr>\n",
              "      <th>4</th>\n",
              "      <td>176560</td>\n",
              "      <td>Wired Headphones</td>\n",
              "      <td>1</td>\n",
              "      <td>11.990000</td>\n",
              "      <td>2019-04-12 14:38:00</td>\n",
              "      <td>669 Spruce St, Los Angeles, CA 90001</td>\n",
              "      <td>4</td>\n",
              "      <td>11.990000</td>\n",
              "      <td>14:38</td>\n",
              "      <td>Los Angeles (CA)</td>\n",
              "      <td>14</td>\n",
              "      <td>38</td>\n",
              "    </tr>\n",
              "    <tr>\n",
              "      <th>5</th>\n",
              "      <td>176561</td>\n",
              "      <td>Wired Headphones</td>\n",
              "      <td>1</td>\n",
              "      <td>11.990000</td>\n",
              "      <td>2019-04-30 09:27:00</td>\n",
              "      <td>333 8th St, Los Angeles, CA 90001</td>\n",
              "      <td>4</td>\n",
              "      <td>11.990000</td>\n",
              "      <td>09:27</td>\n",
              "      <td>Los Angeles (CA)</td>\n",
              "      <td>9</td>\n",
              "      <td>27</td>\n",
              "    </tr>\n",
              "  </tbody>\n",
              "</table>\n",
              "</div>"
            ],
            "text/plain": [
              "  Order ID                     Product  Quantity Ordered  Price Each  \\\n",
              "0   176558        USB-C Charging Cable                 2   11.950000   \n",
              "2   176559  Bose SoundSport Headphones                 1   99.989998   \n",
              "3   176560                Google Phone                 1  600.000000   \n",
              "4   176560            Wired Headphones                 1   11.990000   \n",
              "5   176561            Wired Headphones                 1   11.990000   \n",
              "\n",
              "           Order Date                      Purchase Address  Month  \\\n",
              "0 2019-04-19 08:46:00          917 1st St, Dallas, TX 75001      4   \n",
              "2 2019-04-07 22:30:00     682 Chestnut St, Boston, MA 02215      4   \n",
              "3 2019-04-12 14:38:00  669 Spruce St, Los Angeles, CA 90001      4   \n",
              "4 2019-04-12 14:38:00  669 Spruce St, Los Angeles, CA 90001      4   \n",
              "5 2019-04-30 09:27:00     333 8th St, Los Angeles, CA 90001      4   \n",
              "\n",
              "        Sales   Time               City  Hour  Minute  \n",
              "0   23.900000  08:46        Dallas (TX)     8      46  \n",
              "2   99.989998  22:30        Boston (MA)    22      30  \n",
              "3  600.000000  14:38   Los Angeles (CA)    14      38  \n",
              "4   11.990000  14:38   Los Angeles (CA)    14      38  \n",
              "5   11.990000  09:27   Los Angeles (CA)     9      27  "
            ]
          },
          "metadata": {
            "tags": []
          },
          "execution_count": 12
        }
      ]
    },
    {
      "cell_type": "markdown",
      "metadata": {
        "id": "ViyCTlfzMJCb"
      },
      "source": [
        "### Question #1 What was the best month for sales? How much was earned that month"
      ]
    },
    {
      "cell_type": "code",
      "metadata": {
        "id": "5rA-1DTYMJCc"
      },
      "source": [
        "results = total_sales.groupby('Month').sum()"
      ],
      "execution_count": null,
      "outputs": []
    },
    {
      "cell_type": "code",
      "metadata": {
        "id": "3ruwxFv3MJCd",
        "outputId": "933c43cc-eb9a-4827-d89a-d441bbce3d12"
      },
      "source": [
        "months = range(1,13)\n",
        "\n",
        "plt.bar(months,results['Sales'])\n",
        "plt.xticks(months)\n",
        "plt.ylabel(\"Sales in USD\")\n",
        "plt.xlabel(\"Number of Month\")\n",
        "plt.show()"
      ],
      "execution_count": null,
      "outputs": [
        {
          "output_type": "display_data",
          "data": {
            "image/png": "[encoded data removed]",
            "text/plain": [
              "<Figure size 432x288 with 1 Axes>"
            ]
          },
          "metadata": {
            "tags": [],
            "needs_background": "light"
          }
        }
      ]
    },
    {
      "cell_type": "markdown",
      "metadata": {
        "id": "bkPcV_jfMJCe"
      },
      "source": [
        "### Question #2: What city had the highest number of sales?"
      ]
    },
    {
      "cell_type": "code",
      "metadata": {
        "id": "70vSQvndMJCg",
        "outputId": "df41fe43-54bb-412d-90d3-486cad82757e"
      },
      "source": [
        "results_c = total_sales.groupby('City').sum()\n",
        "results_c"
      ],
      "execution_count": null,
      "outputs": [
        {
          "output_type": "execute_result",
          "data": {
            "text/html": [
              "<div>\n",
              "<style scoped>\n",
              "    .dataframe tbody tr th:only-of-type {\n",
              "        vertical-align: middle;\n",
              "    }\n",
              "\n",
              "    .dataframe tbody tr th {\n",
              "        vertical-align: top;\n",
              "    }\n",
              "\n",
              "    .dataframe thead th {\n",
              "        text-align: right;\n",
              "    }\n",
              "</style>\n",
              "<table border=\"1\" class=\"dataframe\">\n",
              "  <thead>\n",
              "    <tr style=\"text-align: right;\">\n",
              "      <th></th>\n",
              "      <th>Quantity Ordered</th>\n",
              "      <th>Price Each</th>\n",
              "      <th>Month</th>\n",
              "      <th>Sales</th>\n",
              "      <th>Hour</th>\n",
              "      <th>Minute</th>\n",
              "    </tr>\n",
              "    <tr>\n",
              "      <th>City</th>\n",
              "      <th></th>\n",
              "      <th></th>\n",
              "      <th></th>\n",
              "      <th></th>\n",
              "      <th></th>\n",
              "      <th></th>\n",
              "    </tr>\n",
              "  </thead>\n",
              "  <tbody>\n",
              "    <tr>\n",
              "      <th>Atlanta (GA)</th>\n",
              "      <td>16602</td>\n",
              "      <td>2779908.250</td>\n",
              "      <td>104794</td>\n",
              "      <td>2.795499e+06</td>\n",
              "      <td>214264</td>\n",
              "      <td>442932</td>\n",
              "    </tr>\n",
              "    <tr>\n",
              "      <th>Austin (TX)</th>\n",
              "      <td>11153</td>\n",
              "      <td>1809873.625</td>\n",
              "      <td>69829</td>\n",
              "      <td>1.819582e+06</td>\n",
              "      <td>141946</td>\n",
              "      <td>289060</td>\n",
              "    </tr>\n",
              "    <tr>\n",
              "      <th>Boston (MA)</th>\n",
              "      <td>22528</td>\n",
              "      <td>3637409.750</td>\n",
              "      <td>141112</td>\n",
              "      <td>3.661642e+06</td>\n",
              "      <td>288225</td>\n",
              "      <td>590442</td>\n",
              "    </tr>\n",
              "    <tr>\n",
              "      <th>Dallas (TX)</th>\n",
              "      <td>16730</td>\n",
              "      <td>2752627.750</td>\n",
              "      <td>104620</td>\n",
              "      <td>2.767975e+06</td>\n",
              "      <td>214390</td>\n",
              "      <td>435155</td>\n",
              "    </tr>\n",
              "    <tr>\n",
              "      <th>Los Angeles (CA)</th>\n",
              "      <td>33289</td>\n",
              "      <td>5421435.000</td>\n",
              "      <td>208325</td>\n",
              "      <td>5.452571e+06</td>\n",
              "      <td>427444</td>\n",
              "      <td>866638</td>\n",
              "    </tr>\n",
              "    <tr>\n",
              "      <th>New York City (NY)</th>\n",
              "      <td>27932</td>\n",
              "      <td>4635371.000</td>\n",
              "      <td>175741</td>\n",
              "      <td>4.664317e+06</td>\n",
              "      <td>357696</td>\n",
              "      <td>733598</td>\n",
              "    </tr>\n",
              "    <tr>\n",
              "      <th>Portland (ME)</th>\n",
              "      <td>2750</td>\n",
              "      <td>447189.250</td>\n",
              "      <td>17144</td>\n",
              "      <td>4.497583e+05</td>\n",
              "      <td>35211</td>\n",
              "      <td>72856</td>\n",
              "    </tr>\n",
              "    <tr>\n",
              "      <th>Portland (OR)</th>\n",
              "      <td>11303</td>\n",
              "      <td>1860558.250</td>\n",
              "      <td>70621</td>\n",
              "      <td>1.870732e+06</td>\n",
              "      <td>144421</td>\n",
              "      <td>295533</td>\n",
              "    </tr>\n",
              "    <tr>\n",
              "      <th>San Francisco (CA)</th>\n",
              "      <td>50239</td>\n",
              "      <td>8211461.500</td>\n",
              "      <td>315520</td>\n",
              "      <td>8.262204e+06</td>\n",
              "      <td>643265</td>\n",
              "      <td>1319477</td>\n",
              "    </tr>\n",
              "    <tr>\n",
              "      <th>Seattle (WA)</th>\n",
              "      <td>16553</td>\n",
              "      <td>2733296.000</td>\n",
              "      <td>104941</td>\n",
              "      <td>2.747755e+06</td>\n",
              "      <td>213292</td>\n",
              "      <td>436368</td>\n",
              "    </tr>\n",
              "  </tbody>\n",
              "</table>\n",
              "</div>"
            ],
            "text/plain": [
              "                     Quantity Ordered   Price Each   Month         Sales  \\\n",
              "City                                                                       \n",
              " Atlanta (GA)                   16602  2779908.250  104794  2.795499e+06   \n",
              " Austin (TX)                    11153  1809873.625   69829  1.819582e+06   \n",
              " Boston (MA)                    22528  3637409.750  141112  3.661642e+06   \n",
              " Dallas (TX)                    16730  2752627.750  104620  2.767975e+06   \n",
              " Los Angeles (CA)               33289  5421435.000  208325  5.452571e+06   \n",
              " New York City (NY)             27932  4635371.000  175741  4.664317e+06   \n",
              " Portland (ME)                   2750   447189.250   17144  4.497583e+05   \n",
              " Portland (OR)                  11303  1860558.250   70621  1.870732e+06   \n",
              " San Francisco (CA)             50239  8211461.500  315520  8.262204e+06   \n",
              " Seattle (WA)                   16553  2733296.000  104941  2.747755e+06   \n",
              "\n",
              "                       Hour   Minute  \n",
              "City                                  \n",
              " Atlanta (GA)        214264   442932  \n",
              " Austin (TX)         141946   289060  \n",
              " Boston (MA)         288225   590442  \n",
              " Dallas (TX)         214390   435155  \n",
              " Los Angeles (CA)    427444   866638  \n",
              " New York City (NY)  357696   733598  \n",
              " Portland (ME)        35211    72856  \n",
              " Portland (OR)       144421   295533  \n",
              " San Francisco (CA)  643265  1319477  \n",
              " Seattle (WA)        213292   436368  "
            ]
          },
          "metadata": {
            "tags": []
          },
          "execution_count": 15
        }
      ]
    },
    {
      "cell_type": "code",
      "metadata": {
        "id": "qoZZM2ToMJCn",
        "outputId": "68eb98c3-6ebf-4923-b7a4-4e25feaa6a16"
      },
      "source": [
        "cities = [city for city,_ in total_sales.groupby('City')]\n",
        "\n",
        "plt.bar(cities,results_c['Sales'])\n",
        "plt.xticks(cities,rotation='vertical', size = 12)\n",
        "plt.ylabel(\"Sales in USD\")\n",
        "plt.xlabel(\"Name of the City\")\n",
        "plt.show()"
      ],
      "execution_count": null,
      "outputs": [
        {
          "output_type": "display_data",
          "data": {
            "image/png": "[encoded data removed]",
            "text/plain": [
              "<Figure size 432x288 with 1 Axes>"
            ]
          },
          "metadata": {
            "tags": [],
            "needs_background": "light"
          }
        }
      ]
    },
    {
      "cell_type": "markdown",
      "metadata": {
        "id": "A2Sf90jrMJCo"
      },
      "source": [
        "### Question #3: What was the best time for showing advertisements to maximize of customer's buying product?"
      ]
    },
    {
      "cell_type": "code",
      "metadata": {
        "id": "uKn9ibtsMJCp",
        "outputId": "61f72c3a-0fc5-422c-c81d-973831ed627f"
      },
      "source": [
        "hour = [hour for hour,_ in total_sales.groupby('Hour')]\n",
        "\n",
        "plt.plot(hour,total_sales.groupby(['Hour']).count())\n",
        "plt.xticks(hour)\n",
        "plt.ylabel(\"Number of Orders\")\n",
        "plt.xlabel(\"Hours\")\n",
        "plt.grid()\n",
        "plt.show()"
      ],
      "execution_count": null,
      "outputs": [
        {
          "output_type": "display_data",
          "data": {
            "image/png": "[encoded data removed]",
            "text/plain": [
              "<Figure size 432x288 with 1 Axes>"
            ]
          },
          "metadata": {
            "tags": [],
            "needs_background": "light"
          }
        }
      ]
    },
    {
      "cell_type": "markdown",
      "metadata": {
        "id": "lp84UXHeMJCq"
      },
      "source": [
        "### Question #4: What products are most often sold together?"
      ]
    },
    {
      "cell_type": "code",
      "metadata": {
        "id": "6o2U-Ns-MJCr",
        "outputId": "a11dfdfd-12a8-41da-9110-b7b9bca45c30"
      },
      "source": [
        "df = total_sales[total_sales['Order ID'].duplicated(keep=False)]\n",
        "df['Grouped'] = df.groupby('Order ID')['Product'].transform(lambda x: ','.join(x))\n",
        "df = df[['Order ID','Grouped']].drop_duplicates()"
      ],
      "execution_count": null,
      "outputs": [
        {
          "output_type": "stream",
          "text": [
            "D:\\Anaconda\\lib\\site-packages\\ipykernel_launcher.py:2: SettingWithCopyWarning: \n",
            "A value is trying to be set on a copy of a slice from a DataFrame.\n",
            "Try using .loc[row_indexer,col_indexer] = value instead\n",
            "\n",
            "See the caveats in the documentation: https://pandas.pydata.org/pandas-docs/stable/user_guide/indexing.html#returning-a-view-versus-a-copy\n",
            "  \n"
          ],
          "name": "stderr"
        }
      ]
    },
    {
      "cell_type": "code",
      "metadata": {
        "id": "JiTgtgKNMJCt",
        "outputId": "d89f62c7-90e3-4f50-93e1-77158400874b"
      },
      "source": [
        "df.head()"
      ],
      "execution_count": null,
      "outputs": [
        {
          "output_type": "execute_result",
          "data": {
            "text/html": [
              "<div>\n",
              "<style scoped>\n",
              "    .dataframe tbody tr th:only-of-type {\n",
              "        vertical-align: middle;\n",
              "    }\n",
              "\n",
              "    .dataframe tbody tr th {\n",
              "        vertical-align: top;\n",
              "    }\n",
              "\n",
              "    .dataframe thead th {\n",
              "        text-align: right;\n",
              "    }\n",
              "</style>\n",
              "<table border=\"1\" class=\"dataframe\">\n",
              "  <thead>\n",
              "    <tr style=\"text-align: right;\">\n",
              "      <th></th>\n",
              "      <th>Order ID</th>\n",
              "      <th>Grouped</th>\n",
              "    </tr>\n",
              "  </thead>\n",
              "  <tbody>\n",
              "    <tr>\n",
              "      <th>3</th>\n",
              "      <td>176560</td>\n",
              "      <td>Google Phone,Wired Headphones</td>\n",
              "    </tr>\n",
              "    <tr>\n",
              "      <th>18</th>\n",
              "      <td>176574</td>\n",
              "      <td>Google Phone,USB-C Charging Cable</td>\n",
              "    </tr>\n",
              "    <tr>\n",
              "      <th>30</th>\n",
              "      <td>176585</td>\n",
              "      <td>Bose SoundSport Headphones,Bose SoundSport Hea...</td>\n",
              "    </tr>\n",
              "    <tr>\n",
              "      <th>32</th>\n",
              "      <td>176586</td>\n",
              "      <td>AAA Batteries (4-pack),Google Phone</td>\n",
              "    </tr>\n",
              "    <tr>\n",
              "      <th>119</th>\n",
              "      <td>176672</td>\n",
              "      <td>Lightning Charging Cable,USB-C Charging Cable</td>\n",
              "    </tr>\n",
              "  </tbody>\n",
              "</table>\n",
              "</div>"
            ],
            "text/plain": [
              "    Order ID                                            Grouped\n",
              "3     176560                      Google Phone,Wired Headphones\n",
              "18    176574                  Google Phone,USB-C Charging Cable\n",
              "30    176585  Bose SoundSport Headphones,Bose SoundSport Hea...\n",
              "32    176586                AAA Batteries (4-pack),Google Phone\n",
              "119   176672      Lightning Charging Cable,USB-C Charging Cable"
            ]
          },
          "metadata": {
            "tags": []
          },
          "execution_count": 19
        }
      ]
    },
    {
      "cell_type": "code",
      "metadata": {
        "id": "E2iGm-I9MJCu"
      },
      "source": [
        "from itertools import combinations\n",
        "from collections import Counter"
      ],
      "execution_count": null,
      "outputs": []
    },
    {
      "cell_type": "code",
      "metadata": {
        "id": "JgAhTnmdMJCv",
        "outputId": "b05f63be-bc94-471d-8027-72c9795371c5"
      },
      "source": [
        "count = Counter()\n",
        "for row in df['Grouped']:\n",
        "        row_list= row.split(',')\n",
        "        count.update(Counter(combinations(row_list,2)))\n",
        "        \n",
        "for key,value in count.most_common(10):\n",
        "    print(key,value)"
      ],
      "execution_count": null,
      "outputs": [
        {
          "output_type": "stream",
          "text": [
            "('iPhone', 'Lightning Charging Cable') 1005\n",
            "('Google Phone', 'USB-C Charging Cable') 987\n",
            "('iPhone', 'Wired Headphones') 447\n",
            "('Google Phone', 'Wired Headphones') 414\n",
            "('Vareebadd Phone', 'USB-C Charging Cable') 361\n",
            "('iPhone', 'Apple Airpods Headphones') 360\n",
            "('Google Phone', 'Bose SoundSport Headphones') 220\n",
            "('USB-C Charging Cable', 'Wired Headphones') 160\n",
            "('Vareebadd Phone', 'Wired Headphones') 143\n",
            "('Lightning Charging Cable', 'Wired Headphones') 92\n"
          ],
          "name": "stdout"
        }
      ]
    },
    {
      "cell_type": "markdown",
      "metadata": {
        "id": "5uM7KKy0MJCw"
      },
      "source": [
        "### Question #5: What product sold the most? Why do you think it sold the most?"
      ]
    },
    {
      "cell_type": "code",
      "metadata": {
        "id": "rqMFdjHeMJCw"
      },
      "source": [
        "product_group = total_sales.groupby('Product')\n",
        "quantity_order = product_group.sum()['Quantity Ordered']\n",
        "products = [product for product,_ in product_group]"
      ],
      "execution_count": null,
      "outputs": []
    },
    {
      "cell_type": "code",
      "metadata": {
        "id": "qsk6ERkEMJCx",
        "outputId": "b3f9db6a-829b-4cdf-8daa-e5f7bccdcbec"
      },
      "source": [
        "plt.bar(products,quantity_order)\n",
        "plt.xticks(products,rotation='vertical', size = 12)\n",
        "plt.ylabel(\"Quantity of Ordered\")\n",
        "plt.xlabel(\"Product\")\n",
        "plt.show()"
      ],
      "execution_count": null,
      "outputs": [
        {
          "output_type": "display_data",
          "data": {
            "image/png": "[encoded data removed]",
            "text/plain": [
              "<Figure size 432x288 with 1 Axes>"
            ]
          },
          "metadata": {
            "tags": [],
            "needs_background": "light"
          }
        }
      ]
    },
    {
      "cell_type": "code",
      "metadata": {
        "id": "wh_PT7g3MJCz",
        "outputId": "0e48b56a-6f3d-4d69-a28b-11567700335f"
      },
      "source": [
        "prices = total_sales.groupby('Product').mean()['Price Each']\n",
        "print(prices)"
      ],
      "execution_count": null,
      "outputs": [
        {
          "output_type": "stream",
          "text": [
            "Product\n",
            "20in Monitor                   109.989998\n",
            "27in 4K Gaming Monitor         389.989990\n",
            "27in FHD Monitor               149.990005\n",
            "34in Ultrawide Monitor         379.989990\n",
            "AA Batteries (4-pack)            3.840000\n",
            "AAA Batteries (4-pack)           2.990000\n",
            "Apple Airpods Headphones       150.000000\n",
            "Bose SoundSport Headphones      99.989998\n",
            "Flatscreen TV                  300.000000\n",
            "Google Phone                   600.000000\n",
            "LG Dryer                       600.000000\n",
            "LG Washing Machine             600.000000\n",
            "Lightning Charging Cable        14.950000\n",
            "Macbook Pro Laptop            1700.000000\n",
            "ThinkPad Laptop                999.989990\n",
            "USB-C Charging Cable            11.950000\n",
            "Vareebadd Phone                400.000000\n",
            "Wired Headphones                11.990000\n",
            "iPhone                         700.000000\n",
            "Name: Price Each, dtype: float32\n"
          ],
          "name": "stdout"
        }
      ]
    },
    {
      "cell_type": "code",
      "metadata": {
        "id": "GB6cVuRaMJC2"
      },
      "source": [
        "products_group = total_sales.groupby('Product')\n",
        "quantity_ordered = products_group.sum()['Quantity Ordered']\n",
        "\n",
        "products = [products for products, _ in products_group]"
      ],
      "execution_count": null,
      "outputs": []
    },
    {
      "cell_type": "code",
      "metadata": {
        "id": "1tGjNMw6MJC3",
        "outputId": "075fda9c-1303-462c-e61c-1930001039a7"
      },
      "source": [
        "fig, ax1 = plt.subplots()\n",
        "ax2 = ax1.twinx()\n",
        "ax1.bar(products, quantity_ordered, color='g')\n",
        "ax2.plot(products,prices, 'b-')\n",
        "ax1.set_xticklabels(products, rotation = 'vertical', size =12)\n",
        "ax1.set_xlabel('Product Name')\n",
        "ax1.set_ylabel('Quantity Ordered', color='g')\n",
        "ax2.set_ylabel('Prices (&)', color='r')\n",
        "plt.show()"
      ],
      "execution_count": null,
      "outputs": [
        {
          "output_type": "display_data",
          "data": {
            "image/png": "[encoded data removed]",
            "text/plain": [
              "<Figure size 432x288 with 2 Axes>"
            ]
          },
          "metadata": {
            "tags": [],
            "needs_background": "light"
          }
        }
      ]
    },
    {
      "cell_type": "code",
      "metadata": {
        "id": "iLKkzzrnMJC5"
      },
      "source": [
        ""
      ],
      "execution_count": null,
      "outputs": []
    },
    {
      "cell_type": "code",
      "metadata": {
        "id": "H3BDXN_KMJC5"
      },
      "source": [
        ""
      ],
      "execution_count": null,
      "outputs": []
    },
    {
      "cell_type": "code",
      "metadata": {
        "id": "M7PCSE_tMJC5"
      },
      "source": [
        ""
      ],
      "execution_count": null,
      "outputs": []
    },
    {
      "cell_type": "code",
      "metadata": {
        "id": "uH_Rx4_vMJC6"
      },
      "source": [
        ""
      ],
      "execution_count": null,
      "outputs": []
    }
  ]
}